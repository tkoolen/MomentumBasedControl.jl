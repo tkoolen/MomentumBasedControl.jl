{
 "cells": [
  {
   "cell_type": "code",
   "execution_count": null,
   "metadata": {},
   "outputs": [],
   "source": [
    "using RigidBodyDynamics\n",
    "using QPControl\n",
    "using SimpleQP\n",
    "using Compat.Test\n",
    "using BenchmarkTools\n",
    "using StaticArrays"
   ]
  },
  {
   "cell_type": "code",
   "execution_count": null,
   "metadata": {},
   "outputs": [],
   "source": [
    "using OSQP.MathOptInterfaceOSQP\n",
    "import MathOptInterface\n",
    "const MOI = MathOptInterface\n",
    "\n",
    "function defaultoptimizer()\n",
    "    optimizer = OSQPOptimizer()\n",
    "    MOI.set!(optimizer, OSQPSettings.Verbose(), false)\n",
    "    MOI.set!(optimizer, OSQPSettings.EpsAbs(), 1e-8)\n",
    "    MOI.set!(optimizer, OSQPSettings.EpsRel(), 1e-8)\n",
    "    MOI.set!(optimizer, OSQPSettings.MaxIter(), 5000)\n",
    "    MOI.set!(optimizer, OSQPSettings.AdaptiveRhoInterval(), 25) # required for deterministic behavior\n",
    "    optimizer\n",
    "end"
   ]
  },
  {
   "cell_type": "code",
   "execution_count": null,
   "metadata": {},
   "outputs": [],
   "source": [
    "world = RigidBody{Float64}(\"world\")\n",
    "mechanism = Mechanism(world, gravity=SVector(0, 0, -9.81))\n",
    "\n",
    "frame = CartesianFrame3D(\"core\")\n",
    "inertia = SpatialInertia(frame, SDiagonal(1., 1, 1), SVector(0., 0, 0), 10.0)\n",
    "body = RigidBody(inertia)\n",
    "joint = Joint(\"base_x\", Prismatic(SVector(1., 0, 0)))\n",
    "effort_bounds(joint) .= RigidBodyDynamics.Bounds(-100, 100)\n",
    "position_bounds(joint) .= RigidBodyDynamics.Bounds(-100, 100)\n",
    "attach!(mechanism, world, body, joint)"
   ]
  },
  {
   "cell_type": "code",
   "execution_count": null,
   "metadata": {},
   "outputs": [],
   "source": [
    "mpc = MPCController{Void}(mechanism, defaultoptimizer())\n",
    "stage = addstage!(mpc, 0.001)\n",
    "\n",
    "objective = @expression 10 * stage.q[1]^2 + 0.01 * stage.v[1]^2 + 1e-7 * stage.u[1]^2\n",
    "@objective mpc.qpmodel Minimize objective"
   ]
  },
  {
   "cell_type": "code",
   "execution_count": null,
   "metadata": {},
   "outputs": [],
   "source": [
    "state = MechanismState(mechanism)\n",
    "set_configuration!(state, [1.0])\n",
    "τ = similar(velocity(state));\n",
    "benchresult = @benchmark $mpc($τ, 0.0, $state)\n",
    "@test benchresult.allocs == 0\n",
    "benchresult"
   ]
  },
  {
   "cell_type": "code",
   "execution_count": null,
   "metadata": {},
   "outputs": [],
   "source": [
    "state = MechanismState(mechanism)\n",
    "set_configuration!(state, [1.0])\n",
    "ts, qs, vs = simulate(state, 4.0, mpc; Δt=1e-3)\n",
    "@time simulate(state, 4.0, mpc; Δt=1e-3);"
   ]
  },
  {
   "cell_type": "code",
   "execution_count": null,
   "metadata": {},
   "outputs": [],
   "source": [
    "#NBSKIP\n",
    "using Plots\n",
    "plt = plot(ts, first.(qs))\n",
    "ylims!(plt, (-1, 1))"
   ]
  },
  {
   "cell_type": "code",
   "execution_count": null,
   "metadata": {},
   "outputs": [],
   "source": []
  }
 ],
 "metadata": {
  "kernelspec": {
   "display_name": "Julia 0.6.4",
   "language": "julia",
   "name": "julia-0.6"
  },
  "language_info": {
   "file_extension": ".jl",
   "mimetype": "application/julia",
   "name": "julia",
   "version": "0.6.4"
  }
 },
 "nbformat": 4,
 "nbformat_minor": 2
}
