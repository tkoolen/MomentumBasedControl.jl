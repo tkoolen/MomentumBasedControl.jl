{
 "cells": [
  {
   "cell_type": "code",
   "execution_count": null,
   "metadata": {},
   "outputs": [],
   "source": [
    "using QPControl\n",
    "using RigidBodyDynamics\n",
    "using RigidBodyDynamics.Contact\n",
    "using MeshCatMechanisms\n",
    "using RigidBodySim\n",
    "using StaticArrays\n",
    "using BenchmarkTools\n",
    "using Compat\n",
    "using Compat.Test\n",
    "using SimpleQP"
   ]
  },
  {
   "cell_type": "code",
   "execution_count": null,
   "metadata": {},
   "outputs": [],
   "source": [
    "world = RigidBody{Float64}(\"world\")\n",
    "mechanism = Mechanism(world; gravity=SVector(0, 0, -9.81))\n",
    "\n",
    "frame = CartesianFrame3D(\"core\")\n",
    "inertia = SpatialInertia(frame, SDiagonal(1., 1, 1), SVector(0., 0, 0), 10.)\n",
    "core = RigidBody(inertia)\n",
    "joint = Joint(\"floating_base\", Prismatic(SVector(0., 0, 1)))\n",
    "attach!(mechanism, world, core, joint)\n",
    "position_bounds(joint) .= RigidBodyDynamics.Bounds(0, 10)\n",
    "velocity_bounds(joint) .= RigidBodyDynamics.Bounds(-1000, 1000)\n",
    "effort_bounds(joint) .= RigidBodyDynamics.Bounds(0, 0)\n",
    "\n",
    "frame = CartesianFrame3D(\"foot\")\n",
    "inertia = SpatialInertia(frame, SDiagonal(0.05, 0.05, 0.05), SVector(0., 0, 0), 1.0)\n",
    "foot = RigidBody(inertia)\n",
    "joint = Joint(\"foot_extension\", Prismatic(SVector(0., 0, 1)))\n",
    "attach!(mechanism, core, foot, joint)\n",
    "position_bounds(joint) .= RigidBodyDynamics.Bounds(-1., -0.5)\n",
    "velocity_bounds(joint) .= RigidBodyDynamics.Bounds(-1000, 1000)\n",
    "effort_bounds(joint) .= RigidBodyDynamics.Bounds(-200, 200)\n",
    "\n",
    "\n",
    "floor = HalfSpace3D(Point3D(default_frame(world), 0., 0, 0), FreeVector3D(default_frame(world), 0., 0, 1))\n",
    "add_environment_primitive!(mechanism, floor)\n",
    "contactmodel = SoftContactModel(hunt_crossley_hertz(k = 500e3), ViscoelasticCoulombModel(0.8, 20e3, 100.))\n",
    "add_contact_point!(foot, Contact.ContactPoint(Point3D(default_frame(foot), 0., 0, 0), contactmodel))"
   ]
  },
  {
   "cell_type": "code",
   "execution_count": null,
   "metadata": {},
   "outputs": [],
   "source": [
    "function initialize!(state::MechanismState)\n",
    "    set_configuration!(state, [1, -1])\n",
    "    set_velocity!(state, [0, 0])\n",
    "    set_additional_state!(state, zeros(Float64, num_additional_states(state)))\n",
    "    state\n",
    "end"
   ]
  },
  {
   "cell_type": "code",
   "execution_count": null,
   "metadata": {},
   "outputs": [],
   "source": [
    "mvis = MechanismVisualizer(mechanism, Skeleton(randomize_colors=true))\n",
    "open(mvis)\n",
    "copy!(mvis, initialize!(MechanismState(mechanism)))"
   ]
  },
  {
   "cell_type": "code",
   "execution_count": null,
   "metadata": {},
   "outputs": [],
   "source": [
    "# create optimizer\n",
    "using MathOptInterface\n",
    "using OSQP.MathOptInterfaceOSQP\n",
    "const MOI = MathOptInterface\n",
    "using Gurobi\n",
    "\n",
    "function defaultoptimizer()\n",
    "    GurobiOptimizer(OutputFlag=0, TimeLimit=1)\n",
    "end"
   ]
  },
  {
   "cell_type": "code",
   "execution_count": null,
   "metadata": {},
   "outputs": [],
   "source": [
    "mpc = QPControl.MPCController{QPControl.ContactPoint{4}}(mechanism, defaultoptimizer())\n",
    "\n",
    "stages = QPControl.addstages!(mpc, 1, 0.001)\n",
    "\n",
    "Q = Diagonal([10, 10, 0.01, 0.01])\n",
    "xf = vcat(stages[end].q, stages[end].v) - [1, -1, 0, 0]\n",
    "R = Diagonal([1e-8, 1e-8])\n",
    "objective = @expression xf' * Q * xf\n",
    "for stage in stages\n",
    "    objective = @expression objective + stage.v̇' * R * stage.v̇\n",
    "\n",
    "    for body in bodies(mechanism)\n",
    "        for point in RigidBodyDynamics.contact_points(body)\n",
    "            position = location(point)\n",
    "            μ = point.model.friction.μ\n",
    "            contact = addcontact!(mpc, stage, position, floor, μ)\n",
    "            contact.maxnormalforce[] = 1e6 # TODO\n",
    "        end\n",
    "    end\n",
    "end\n",
    "\n",
    "@objective mpc.qpmodel Minimize objective"
   ]
  },
  {
   "cell_type": "code",
   "execution_count": null,
   "metadata": {},
   "outputs": [],
   "source": [
    "# simulate\n",
    "state = initialize!(MechanismState(mechanism))\n",
    "set_configuration!(state, [3.0, -1.0])\n",
    "Δt = 1 / 500\n",
    "pcontroller = PeriodicController(similar(velocity(state)), Δt, mpc)\n",
    "# TODO: add damping\n",
    "dynamics = Dynamics(mechanism, pcontroller)\n",
    "problem = ODEProblem(dynamics, state, (0., 10.))"
   ]
  },
  {
   "cell_type": "code",
   "execution_count": null,
   "metadata": {},
   "outputs": [],
   "source": [
    "τ = similar(velocity(state))\n",
    "@benchmark $mpc($τ, 0.0, $state)"
   ]
  },
  {
   "cell_type": "code",
   "execution_count": null,
   "metadata": {},
   "outputs": [],
   "source": [
    "sol = solve(problem, Tsit5(), abs_tol = 1e-8, dt = 1e-6)\n",
    "@time sol = solve(problem, Tsit5(), abs_tol = 1e-8, dt = 1e-6)\n",
    "@test sol.retcode == :Success"
   ]
  },
  {
   "cell_type": "code",
   "execution_count": null,
   "metadata": {},
   "outputs": [],
   "source": [
    "#NBSKIP\n",
    "RigidBodySim.animate(mvis, state, sol)"
   ]
  }
 ],
 "metadata": {
  "kernelspec": {
   "display_name": "Julia 0.6.4",
   "language": "julia",
   "name": "julia-0.6"
  },
  "language_info": {
   "file_extension": ".jl",
   "mimetype": "application/julia",
   "name": "julia",
   "version": "0.6.4"
  }
 },
 "nbformat": 4,
 "nbformat_minor": 2
}
