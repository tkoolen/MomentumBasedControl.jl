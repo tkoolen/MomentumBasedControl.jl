{
 "cells": [
  {
   "cell_type": "markdown",
   "metadata": {},
   "source": [
    "# Controlling the Acceleration of a Point\n",
    "\n",
    "This notebook demonstrates controlling a point attached to our mechanism to move through some trajectory in space. We'll do that using the `PointAccelerationTask` type from `QPControl.jl`"
   ]
  },
  {
   "cell_type": "code",
   "execution_count": null,
   "metadata": {},
   "outputs": [],
   "source": [
    "using RigidBodyDynamics\n",
    "using RigidBodyDynamics.PDControl\n",
    "using RigidBodyDynamics.Graphs: target\n",
    "using QPControl\n",
    "using StaticArrays"
   ]
  },
  {
   "cell_type": "code",
   "execution_count": null,
   "metadata": {},
   "outputs": [],
   "source": [
    "# Load URDF\n",
    "urdf = joinpath(dirname(pathof(RigidBodyDynamics)), \"..\", \"test\", \"urdf\", \"Acrobot.urdf\")\n",
    "mechanism = parse_urdf(Float64, urdf)"
   ]
  },
  {
   "cell_type": "code",
   "execution_count": null,
   "metadata": {},
   "outputs": [],
   "source": [
    "#NBSKIP\n",
    "\n",
    "# Create the visualizer with MeshCatMechanisms.jl\n",
    "using MeshCatMechanisms\n",
    "mvis = MechanismVisualizer(mechanism, URDFVisuals(urdf))\n",
    "open(mvis)"
   ]
  },
  {
   "cell_type": "code",
   "execution_count": null,
   "metadata": {},
   "outputs": [],
   "source": [
    "# Create our optimizer to solve the QP control problems. Note that in\n",
    "# this particular case we don't actually *need* a full QP solver, as \n",
    "# we have no inequality constraints in our optimization. However, it's\n",
    "# convenient to demonstrate the use of the QP control framework even in\n",
    "# this simple case. \n",
    "\n",
    "using OSQP\n",
    "using OSQP.MathOptInterfaceOSQP: OSQPSettings\n",
    "using MathOptInterface\n",
    "const MOI = MathOptInterface\n",
    "optimizer = OSQP.Optimizer()\n",
    "MOI.set(optimizer, OSQPSettings.Verbose(), false)\n",
    "MOI.set(optimizer, OSQPSettings.EpsAbs(), 1e-8)\n",
    "MOI.set(optimizer, OSQPSettings.EpsRel(), 1e-8)\n",
    "MOI.set(optimizer, OSQPSettings.MaxIter(), 10000)\n",
    "MOI.set(optimizer, OSQPSettings.AdaptiveRhoInterval(), 25) # required for deterministic behavior"
   ]
  },
  {
   "cell_type": "markdown",
   "metadata": {},
   "source": [
    "## Desired Trajectory\n",
    "\n",
    "We'll command our robot to move in a circle with radius 0.5 centered on the point $(0, 0.25, 2.2)$. "
   ]
  },
  {
   "cell_type": "code",
   "execution_count": null,
   "metadata": {},
   "outputs": [],
   "source": [
    "const center = Point3D(root_frame(mechanism), 0.0, 0.25, 2.2)\n",
    "const radius = 0.5\n",
    "const velocity = 1.0\n",
    "\n",
    "# Create reference position, velocity, and acceleration functions\n",
    "p_reference(t) = center + FreeVector3D(root_frame(mechanism), \n",
    "    radius * cos(velocity * t), 0.0, radius * sin(velocity * t))\n",
    "ṗ_reference(t) = FreeVector3D(root_frame(mechanism), \n",
    "    -velocity * radius * sin(velocity * t), 0.0, velocity * radius * cos(velocity * t))\n",
    "p̈_reference(t) = FreeVector3D(root_frame(mechanism),\n",
    "    -velocity^2 * radius * cos(velocity * t), 0.0, -velocity^2 * radius * sin(velocity * t))"
   ]
  },
  {
   "cell_type": "code",
   "execution_count": null,
   "metadata": {},
   "outputs": [],
   "source": [
    "#NBSKIP\n",
    "\n",
    "# Draw the reference trajectory in the visualizer\n",
    "using MeshCat: PointCloud, setobject!, LineSegments, LineBasicMaterial\n",
    "using GeometryTypes: Point\n",
    "geometry = PointCloud([Point(p_reference(t).v) for t in range(0, stop=2π, length=100)])\n",
    "setobject!(mvis.visualizer[:circle], LineSegments(geometry, LineBasicMaterial()))"
   ]
  },
  {
   "cell_type": "code",
   "execution_count": null,
   "metadata": {},
   "outputs": [],
   "source": [
    "# Create the low-level momentum-based controller\n",
    "lowlevel = MomentumBasedController{4}(mechanism, optimizer)\n",
    "\n",
    "# Add a point acceleration task to the low-level controller. The point \n",
    "# we'll control is located at the tip of the lower arm:\n",
    "body = last(bodies(mechanism))\n",
    "point = Point3D(default_frame(body), 0., 0, -2.05)\n",
    "task = PointAccelerationTask(mechanism,\n",
    "    path(mechanism, root_body(mechanism), body),\n",
    "    point)\n",
    "# Add the task to the controller. This will create a hard constraint\n",
    "# in the controller to force it to produce the desired point acceleration.\n",
    "addtask!(lowlevel, task)\n",
    "# If we wanted to just add a penalty to the objective function instead,\n",
    "# we could do:\n",
    "#     addtask!(lowlevel, task, cost) \n",
    "# for some real value `cost`. \n",
    "\n",
    "# Also add a small regularization term to avoid unbounded joint \n",
    "# accelerations\n",
    "for joint in joints(mechanism)\n",
    "    regularize!(lowlevel, joint, 1e-6)\n",
    "end\n",
    "\n",
    "# Create the high-level controller. The high-level controller does the following\n",
    "# at each time step:\n",
    "#  1. Compute the reference position, velocity, and acceleration of the target point\n",
    "#  2. Compute the desired acceleration of the point using a simple PD controller\n",
    "#  3. Set the desired acceleration of the PointAccelerationTask in the low-level\n",
    "#     controller\n",
    "#  4. Run the low-level controller to produce the commanded torques\n",
    "highlevel = let lowlevel = lowlevel, task = task, state = MechanismState(mechanism)\n",
    "    function (τ, t, x)\n",
    "        copyto!(state, x)\n",
    "        \n",
    "        # Reference position, velocity, and acceleration\n",
    "        pref = p_reference(t)\n",
    "        ṗref = ṗ_reference(t)\n",
    "        p̈ref = p̈_reference(t)\n",
    "        \n",
    "        # Compute the current position and velocity of the point\n",
    "        H = transform_to_root(state, target(task.path))\n",
    "        T = twist_wrt_world(state, target(task.path))\n",
    "        p = H * task.point\n",
    "        ṗ = point_velocity(T, H * task.point)\n",
    "        \n",
    "        # Compute the desired acceleration using a PD law:\n",
    "        p̈des = pd(PDGains(1.0, 1.0), p, pref, ṗ, ṗref) + p̈ref\n",
    "        \n",
    "        # Set the desired acceleration in the low-level controller\n",
    "        setdesired!(task, p̈des)\n",
    "        \n",
    "        # Run the low-level controller to produce commanded torques\n",
    "        lowlevel(τ, t, x)\n",
    "    end\n",
    "end"
   ]
  },
  {
   "cell_type": "code",
   "execution_count": null,
   "metadata": {},
   "outputs": [],
   "source": [
    "# Now we can run our controller from some initial state using the `simulate`\n",
    "# function from RigidBodyDynamics. \n",
    "state = MechanismState(mechanism)\n",
    "set_configuration!(state, [-π, 0.1])\n",
    "ts, qs, vs = RigidBodyDynamics.simulate(state, 20.0, highlevel; Δt=1e-2);"
   ]
  },
  {
   "cell_type": "code",
   "execution_count": null,
   "metadata": {},
   "outputs": [],
   "source": [
    "#NBSKIP\n",
    "\n",
    "# Show the location of our target point\n",
    "setelement!(mvis, point)\n",
    "\n",
    "# Animate the resulting trajectory in the visualizer\n",
    "setanimation!(mvis, ts, qs)"
   ]
  }
 ],
 "metadata": {
  "kernelspec": {
   "display_name": "Julia 0.6.4",
   "language": "julia",
   "name": "julia-0.6"
  },
  "language_info": {
   "file_extension": ".jl",
   "mimetype": "application/julia",
   "name": "julia",
   "version": "0.6.4"
  }
 },
 "nbformat": 4,
 "nbformat_minor": 2
}
